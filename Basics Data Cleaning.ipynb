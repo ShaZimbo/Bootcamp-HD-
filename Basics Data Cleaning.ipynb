{
 "cells": [
  {
   "cell_type": "markdown",
   "metadata": {
    "id": "lqt_yzRy16Wj"
   },
   "source": [
    "## Compulsory Task \n",
    "\n",
    "In this compulsory task you will clean the country column and parse the date column in the **store_income_data_task.csv** file."
   ]
  },
  {
   "cell_type": "code",
   "execution_count": 175,
   "metadata": {},
   "outputs": [],
   "source": [
    "import fuzzywuzzy\n",
    "from fuzzywuzzy import process\n",
    "import chardet\n",
    "import pandas as pd\n",
    "import numpy as np\n",
    "import datetime"
   ]
  },
  {
   "cell_type": "code",
   "execution_count": 176,
   "metadata": {
    "id": "vBP3WN2O16Wp"
   },
   "outputs": [],
   "source": [
    "# Load up store_income_data.csv\n",
    "store_df = pd.read_csv(\"store_income_data_task.csv\")"
   ]
  },
  {
   "cell_type": "markdown",
   "metadata": {
    "id": "ItqLwumA16Wr"
   },
   "source": [
    "1. Take a look at all the unique values in the \"country\" column. Then, convert the column to lowercase and remove any trailing white spaces."
   ]
  },
  {
   "cell_type": "code",
   "execution_count": 177,
   "metadata": {
    "id": "sLkzt4Hr16Wr"
   },
   "outputs": [
    {
     "name": "stdout",
     "output_type": "stream",
     "text": [
      "There are 77 unique countries\n"
     ]
    }
   ],
   "source": [
    "# View unique country values\n",
    "countries = store_df['country'].unique()\n",
    "print(f'There are {len(countries)} unique countries')"
   ]
  },
  {
   "cell_type": "code",
   "execution_count": 178,
   "metadata": {},
   "outputs": [
    {
     "data": {
      "text/plain": [
       "array(['United States/', 'Britain', ' United States', 'Britain/',\n",
       "       ' United Kingdom', 'U.K.', 'SA ', 'U.K/', 'America',\n",
       "       'United Kingdom', nan, 'united states', ' S.A.', 'England ', 'UK',\n",
       "       'S.A./', 'ENGLAND', 'BRITAIN', 'U.K', 'U.K ', 'America/', 'SA.',\n",
       "       'S.A. ', 'u.k', 'uk', ' ', 'UK.', 'England/', 'england',\n",
       "       ' Britain', 'united states of america', 'UK/', 'SA/', 'SA',\n",
       "       'England.', 'UNITED KINGDOM', 'America.', 'S.A..', 's.a.', ' U.K',\n",
       "       ' United States of America', 'Britain ', 'England', ' SA',\n",
       "       'United States of America.', 'United States of America/',\n",
       "       'United States.', 's. africasouth africa', ' England',\n",
       "       'United Kingdom ', 'United States of America ', ' UK',\n",
       "       'united kingdom', 'AMERICA', 'America ',\n",
       "       'UNITED STATES OF AMERICA', ' S. AfricaSouth Africa', 'america',\n",
       "       'S. AFRICASOUTH AFRICA', 'Britain.', '/', 'United Kingdom.',\n",
       "       'United States', ' America', 'UNITED STATES', 'sa',\n",
       "       'United States of America', 'UK ', 'United States ',\n",
       "       'S. AfricaSouth Africa/', 'S.A.', 'United Kingdom/',\n",
       "       'S. AfricaSouth Africa ', 'S. AfricaSouth Africa.',\n",
       "       'S. AfricaSouth Africa', '.', 'britain'], dtype=object)"
      ]
     },
     "execution_count": 178,
     "metadata": {},
     "output_type": "execute_result"
    }
   ],
   "source": [
    "countries"
   ]
  },
  {
   "cell_type": "code",
   "execution_count": 179,
   "metadata": {},
   "outputs": [],
   "source": [
    "# Convert to lower case\n",
    "store_df['country'] = store_df['country'].str.lower()\n",
    "\n",
    "# Remove trailing white spaces and characters\n",
    "store_df['country'] = store_df['country'].str.strip(\" \")\n",
    "store_df['country'] = store_df['country'].str.strip(\"/\")\n",
    "store_df['country'] = store_df['country'].str.strip(\".\")"
   ]
  },
  {
   "cell_type": "markdown",
   "metadata": {
    "id": "P6dcDc4P16Ws"
   },
   "source": [
    "2. Note that there should only be three separate countries. Eliminate all variations, so that 'South Africa', 'United Kingdom' and 'United States' are the only three countries."
   ]
  },
  {
   "cell_type": "code",
   "execution_count": 180,
   "metadata": {
    "id": "qeV3CxMR16Ws"
   },
   "outputs": [
    {
     "name": "stdout",
     "output_type": "stream",
     "text": [
      "There are 13 unique countries\n"
     ]
    }
   ],
   "source": [
    "# View changes\n",
    "countries = store_df['country'].unique()\n",
    "print(f\"There are {len(countries)} unique countries\")\n",
    "\n",
    "# Function to replace rows in the provided column of the provided DataFrame\n",
    "# that match the provided string above the provided ratio with the provided string\n",
    "def replace_matches_in_column(df, column, string_to_match, min_ratio = 90):\n",
    "    # get a list of unique strings\n",
    "    strings = df[column].unique()\n",
    "    \n",
    "    # Get the top 10 closest matches to our input string\n",
    "    matches = fuzzywuzzy.process.extract(string_to_match, strings, \n",
    "                                         limit=10, scorer=fuzzywuzzy.fuzz.token_sort_ratio)\n",
    "\n",
    "    # Only get matches with a ratio > 90\n",
    "    close_matches = [matches[0] for matches in matches if matches[1] >= min_ratio]\n",
    "\n",
    "    # Get the rows of all the close matches in our dataframe\n",
    "    rows_with_matches = df[column].isin(close_matches)\n",
    "\n",
    "    # Replace all rows with close matches with the input matches \n",
    "    df.loc[rows_with_matches, column] = string_to_match\n",
    "    \n",
    "    # Let us know when the function is done\n",
    "    print(\"All done!\")"
   ]
  },
  {
   "cell_type": "code",
   "execution_count": 181,
   "metadata": {},
   "outputs": [
    {
     "data": {
      "text/plain": [
       "array(['united states', 'britain', 'united kingdom', 'u.k', 'sa',\n",
       "       'america', nan, 's.a', 'england', 'uk', '',\n",
       "       'united states of america', 's. africasouth africa'], dtype=object)"
      ]
     },
     "execution_count": 181,
     "metadata": {},
     "output_type": "execute_result"
    }
   ],
   "source": [
    "countries"
   ]
  },
  {
   "cell_type": "code",
   "execution_count": 182,
   "metadata": {},
   "outputs": [
    {
     "name": "stdout",
     "output_type": "stream",
     "text": [
      "All done!\n",
      "All done!\n",
      "All done!\n",
      "All done!\n",
      "All done!\n",
      "All done!\n",
      "All done!\n",
      "All done!\n",
      "All done!\n",
      "All done!\n",
      "All done!\n",
      "All done!\n"
     ]
    },
    {
     "name": "stderr",
     "output_type": "stream",
     "text": [
      "WARNING:root:Applied processor reduces input query to empty string, all comparisons will have score 0. [Query: '']\n"
     ]
    },
    {
     "name": "stdout",
     "output_type": "stream",
     "text": [
      "All done!\n"
     ]
    }
   ],
   "source": [
    "replace_matches_in_column(df=store_df, column='country', string_to_match=\"united kingdom\")\n",
    "replace_matches_in_column(df=store_df, column='country', string_to_match=\"united states\")\n",
    "replace_matches_in_column(df=store_df, column='country', string_to_match=\"united states of america\")\n",
    "replace_matches_in_column(df=store_df, column='country', string_to_match=\"south africa\")\n",
    "replace_matches_in_column(df=store_df, column='country', string_to_match=\"england\")\n",
    "replace_matches_in_column(df=store_df, column='country', string_to_match=\"britain\")\n",
    "replace_matches_in_column(df=store_df, column='country', string_to_match=\"s. africasouth africa\")\n",
    "replace_matches_in_column(df=store_df, column='country', string_to_match=\"uk\")\n",
    "replace_matches_in_column(df=store_df, column='country', string_to_match=\"u.k.\")\n",
    "replace_matches_in_column(df=store_df, column='country', string_to_match=\"s.a.\")\n",
    "replace_matches_in_column(df=store_df, column='country', string_to_match=\"america\")\n",
    "replace_matches_in_column(df=store_df, column='country', string_to_match=\"sa\")\n",
    "replace_matches_in_column(df=store_df, column='country', string_to_match=\"\")"
   ]
  },
  {
   "cell_type": "code",
   "execution_count": 183,
   "metadata": {},
   "outputs": [
    {
     "name": "stdout",
     "output_type": "stream",
     "text": [
      "There are 13 unique countries\n"
     ]
    },
    {
     "name": "stderr",
     "output_type": "stream",
     "text": [
      "C:\\Users\\shazz\\AppData\\Local\\Temp\\ipykernel_14492\\1008329884.py:6: FutureWarning: A value is trying to be set on a copy of a DataFrame or Series through chained assignment using an inplace method.\n",
      "The behavior will change in pandas 3.0. This inplace method will never work because the intermediate object on which we are setting values always behaves as a copy.\n",
      "\n",
      "For example, when doing 'df[col].method(value, inplace=True)', try using 'df.method({col: value}, inplace=True)' or df[col] = df[col].method(value) instead, to perform the operation inplace on the original object.\n",
      "\n",
      "\n",
      "  store_df.country.fillna('Other', inplace=True)\n"
     ]
    }
   ],
   "source": [
    "countries = store_df['country'].unique()\n",
    "print(f\"There are {len(countries)} unique countries\")\n",
    "countries\n",
    "\n",
    "# Replace values\n",
    "store_df.country.fillna('Other', inplace=True)\n",
    "store_df.replace('uk', 'united kingdom', inplace=True)\n",
    "store_df.replace('britain', 'united kingdom', inplace=True)\n",
    "store_df.replace('england', 'united kingdom', inplace=True)\n",
    "store_df.replace('u.k.', 'united kingdom', inplace=True)\n",
    "store_df.replace('united states of america', 'united states', inplace=True)\n",
    "store_df.replace('america', 'united states', inplace=True)\n",
    "store_df.replace('sa', 'south africa', inplace=True)\n",
    "store_df.replace('s.a.', 'south africa', inplace=True)\n",
    "store_df.replace('s. africasouth africa', 'south africa', inplace=True)\n",
    "store_df.replace('', 'Other', inplace=True)\n",
    "\n"
   ]
  },
  {
   "cell_type": "code",
   "execution_count": 184,
   "metadata": {},
   "outputs": [
    {
     "name": "stdout",
     "output_type": "stream",
     "text": [
      "There are 4 unique countries\n"
     ]
    },
    {
     "data": {
      "text/plain": [
       "array(['united states', 'united kingdom', 'south africa', 'Other'],\n",
       "      dtype=object)"
      ]
     },
     "execution_count": 184,
     "metadata": {},
     "output_type": "execute_result"
    }
   ],
   "source": [
    "countries = store_df['country'].unique()\n",
    "print(f\"There are {len(countries)} unique countries\")\n",
    "countries"
   ]
  },
  {
   "cell_type": "markdown",
   "metadata": {
    "id": "UJZDMTwP16Ws"
   },
   "source": [
    "3. Create a new column called `days_ago` in the DataFrame that is a copy of the 'date_measured' column but instead it is a number that shows how many days ago it was measured from the current date. Note that the current date can be obtained using `datetime.date.today()`."
   ]
  },
  {
   "cell_type": "code",
   "execution_count": 185,
   "metadata": {
    "id": "gMJbN84P16Wt"
   },
   "outputs": [
    {
     "name": "stdout",
     "output_type": "stream",
     "text": [
      "  date_measured  days_ago\n",
      "0    2006-02-04      6929\n",
      "1    2006-01-04      6960\n",
      "2    2003-09-12      7805\n",
      "3    2006-05-08      6836\n",
      "4    1973-01-21     18996\n"
     ]
    }
   ],
   "source": [
    "# Convert to datetime using the correct format\n",
    "store_df['date_measured'] = pd.to_datetime(store_df['date_measured'], format='%d-%m-%Y')\n",
    "\n",
    "\n",
    "# Calculate days ago\n",
    "today = pd.Timestamp(datetime.date.today())\n",
    "store_df['days_ago'] = (today - store_df['date_measured']).dt.days\n",
    "\n",
    "print(store_df[['date_measured', 'days_ago']].head())"
   ]
  }
 ],
 "metadata": {
  "colab": {
   "provenance": []
  },
  "kernelspec": {
   "display_name": "Python 3",
   "language": "python",
   "name": "python3"
  },
  "language_info": {
   "codemirror_mode": {
    "name": "ipython",
    "version": 3
   },
   "file_extension": ".py",
   "mimetype": "text/x-python",
   "name": "python",
   "nbconvert_exporter": "python",
   "pygments_lexer": "ipython3",
   "version": "3.12.6"
  }
 },
 "nbformat": 4,
 "nbformat_minor": 0
}
