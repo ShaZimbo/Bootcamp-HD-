{
 "cells": [
  {
   "cell_type": "markdown",
   "metadata": {
    "id": "IBb6nSAY5T4I"
   },
   "source": [
    "# Machine Learning\n",
    "## Compulsory task"
   ]
  },
  {
   "cell_type": "markdown",
   "metadata": {
    "id": "N02Qu9_f1N45"
   },
   "source": [
    "1. For each of the following examples describe at least one possible input and \n",
    "output. Justify your answers:  \n",
    "* 1.1 A self-driving car\n",
    "* 1.2 Netflix recommendation system\n",
    "* 1.3 Signature recognition\n",
    "* 1.4 Medical diagnosis\n"
   ]
  },
  {
   "cell_type": "markdown",
   "metadata": {
    "id": "-8aBqprP3ypo"
   },
   "source": [
    "1. Answer here\n",
    "\n",
    "|      | Input(s)    | Output     | Justification\n",
    "| ---- | ----------- | ---------  | ----------------\n",
    "| 1.1  | Speed of a car above the speed limit, weather conditions, date of last MOT | Number of accidents | A self-driving car needs to assess risks and the impact of various risk factors on accidents\n",
    "| 1.2  | Watch history, likes, genres, directors, actors | Programmes with the same genres, actors, directors | A Netflix recommendation system should identify what people like from their previous likes and suggest similar programmes\n",
    "| 1.3  | Number of signature matches | Number of confirmed fraud cases | Signature recognition should be able to identify fraud patterns\n",
    "| 1.4  | Size of a tumour, age, smoker status, alcahol consumption, BMI | Months to live | The size of a tumour, along with a patients lifestyle and age would be significant factors in indicating how many months the person should have remaining"
   ]
  },
  {
   "cell_type": "markdown",
   "metadata": {
    "id": "l_I2f4C85yNF"
   },
   "source": [
    "\n",
    "2. For each of the following case studies, determine whether it is appropriate to utilise regression or classification machine learning algorithms. Justify your answers:\n",
    "* 2.1 Classifying emails as promotion or social based on their content and metadata. \n",
    "* 2.2 Forecasting the stock price of a company based on historical data and market trends.\n",
    "* 2.3 Sorting images of animals into different species based on their visual features.\n",
    "* 2.4 Predicting the likelihood of a patient having a particular disease based on medical history and diagnostic test results. "
   ]
  },
  {
   "cell_type": "markdown",
   "metadata": {
    "id": "WgMUsqQr6qFU"
   },
   "source": [
    "2. Answer here\n",
    "\n",
    "|      | Regression / Classification | Justification\n",
    "| ---- | ----------- | ----------------\n",
    "| 2.1 | Classification | This would be more appropriate as it categorises the data and learns the patterns and relationships associated with each category\n",
    "| 2.2 | Regression | This would be more appropriate because inputs and outputs can be provided that can be analysed to inform predictions\n",
    "| 2.3 | Classification | This would be more appropriate as it would categorise the animals based on facial features / patterns\n",
    "| 2.4 | Regression | This would be more appropriate because inputs and outputs can be provided that can be analysed to inform predictions"
   ]
  },
  {
   "cell_type": "markdown",
   "metadata": {
    "id": "b6f8UETG64hH"
   },
   "source": [
    "3. For each of the following real-world problems, determine whether it is appropriate to utilise a supervised or unsupervised machine learning algorithm. Justify your answers:\n",
    "* 3.1 Detecting anomalies in a manufacturing process using sensor data without prior knowledge of specific anomaly patterns. \n",
    "* 3.2 Predicting customer lifetime value based on historical transaction data and customer demographics. \n",
    "* 3.3 Segmenting customer demographics based on their purchase history, browsing behaviour, and preferences. \n",
    "* 3.4 Analysing social media posts to categorise them into different themes. \n"
   ]
  },
  {
   "cell_type": "markdown",
   "metadata": {
    "id": "W6dTYBvd675O"
   },
   "source": [
    "3. Answer here\n",
    "\n",
    "|      | Supervised / Unsupervised | Justification\n",
    "| ---- | ----------- | ----------------\n",
    "| 3.1 | Unsupervised | This would be more appropriate as there is no prior knowledge of specific anomaly patterns\n",
    "| 3.2 | Supervised (Regression) | This would be more appropriate as there is historical transaction data and customer demographics that can inform the prediction\n",
    "| 3.3 | Supervised (Classification) | This would be more appropriate as there data available in the form of purchase history, browsing behaviour and preferences that could inform the segment\n",
    "| 3.4 | Unsupervised | This would be more appropriate as it does not indicate that there are predefined classes or categories"
   ]
  },
  {
   "cell_type": "markdown",
   "metadata": {
    "id": "bqsun96o64xe"
   },
   "source": [
    "4. \n",
    "For each of the following real-world problems, determine whether it is appropriate to utilise semi-supervised machine learning algorithms. Justify your answers:\n",
    "* 4.1 Predicting fraudulent financial transactions using a dataset where most transactions are labelled as fraudulent or legitimate.\n",
    "* 4.2 Analysing customer satisfaction surveys where only a small portion of the data is labelled with satisfaction ratings.\n",
    "* 4.3 Identifying spam emails in a dataset where the majority of emails are labelled.\n",
    "* 4.4 Predicting the probability of default for credit card applicants based on their complete financial and credit-related information.\n"
   ]
  },
  {
   "cell_type": "markdown",
   "metadata": {
    "id": "aTWugZ6q68GF"
   },
   "source": [
    "4. Answer here\n",
    "\n",
    "|      | Appropriate / Inappropriate | Justification\n",
    "| ---- | ----------- | ----------------\n",
    "| 4.1 | Inappropriate | Most of the transactions are already labelled and due to the risk and cost of making mistakes in relation to fraud, supervised learning would be more suited to this use case\n",
    "| 4.2 | Appropriate | If the quality of the labelled data is high then this would be an appropriate use case, however if the quality of the data is low, further labelling may be required to ensure semi-suppervised machine learning is successful in this case\n",
    "| 4.3 | Inappropriate | As there is a large dataset with labelled data, supervised learning could be utilised here\n",
    "| 4.4 | Inappropriate | If the complete financial and credit-related information is available then supervised regression would be more appropriate. The risks involved in defaulting would also be a factor that would favour supervised learning over semi-supervised learning"
   ]
  }
 ],
 "metadata": {
  "colab": {
   "provenance": []
  },
  "kernelspec": {
   "display_name": "Python 3",
   "name": "python3"
  },
  "language_info": {
   "name": "python",
   "version": "3.12.6"
  }
 },
 "nbformat": 4,
 "nbformat_minor": 0
}
